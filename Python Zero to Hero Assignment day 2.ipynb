{
 "cells": [
  {
   "cell_type": "markdown",
   "id": "41660032",
   "metadata": {},
   "source": [
    "#  Assignment day 2 "
   ]
  },
  {
   "cell_type": "code",
   "execution_count": 17,
   "id": "ed864872",
   "metadata": {},
   "outputs": [],
   "source": [
    "#Q1. Name the keyword which helps in writing code involving conditions.\n",
    " #Ans-  if, elif, else"
   ]
  },
  {
   "cell_type": "code",
   "execution_count": null,
   "id": "8adbab0f",
   "metadata": {},
   "outputs": [],
   "source": [
    "#Q2. Write the syntax of a simple if statement.\n",
    "#Ans-  if test expression:\n",
    " #         statement(s)"
   ]
  },
  {
   "cell_type": "code",
   "execution_count": 11,
   "id": "d5bdc6a9",
   "metadata": {},
   "outputs": [],
   "source": [
    "#Q3. Write a program to check whether a person is eligible for voting or not. (accept age from user)\n",
    "#Ans- \n"
   ]
  },
  {
   "cell_type": "code",
   "execution_count": 16,
   "id": "5a21989c",
   "metadata": {},
   "outputs": [
    {
     "name": "stdout",
     "output_type": "stream",
     "text": [
      "Enter your age: 5\n",
      "Not eligible to vote\n"
     ]
    }
   ],
   "source": [
    "age = int(input(\"Enter your age: \"))  \n",
    "if (age > 18): \n",
    "    print(\"Eligible to Vote\") \n",
    "else: \n",
    "    print(\"Not eligible to vote\")"
   ]
  },
  {
   "cell_type": "code",
   "execution_count": 7,
   "id": "1106aeea",
   "metadata": {},
   "outputs": [
    {
     "name": "stdout",
     "output_type": "stream",
     "text": [
      "Know Program\n"
     ]
    }
   ],
   "source": [
    "#Q4. What is the output of the given below program?\n",
    "\n",
    "if 1 + 3 == 7:\n",
    "    print(\"Hello\")\n",
    "else:\n",
    "    print(\"Know Program\")\n",
    "\n",
    "# Ans-  Know Program"
   ]
  },
  {
   "cell_type": "code",
   "execution_count": 8,
   "id": "4885c331",
   "metadata": {},
   "outputs": [
    {
     "name": "stdout",
     "output_type": "stream",
     "text": [
      "Enter a number: 5\n",
      "5 is Odd\n"
     ]
    }
   ],
   "source": [
    "#Q5. Write a program to check whether a number entered by user is even or odd.\n",
    "#Ans- \n",
    "num = int(input(\"Enter a number: \")) \n",
    "if (num % 2) == 0:\n",
    "   print(\"{0} is Even\".format(num))\n",
    "else:\n",
    "   print(\"{0} is Odd\".format(num))"
   ]
  },
  {
   "cell_type": "code",
   "execution_count": 9,
   "id": "bbfa91c6",
   "metadata": {},
   "outputs": [
    {
     "name": "stdout",
     "output_type": "stream",
     "text": [
      "The largest number is 50\n"
     ]
    }
   ],
   "source": [
    "#Q6. Python program to find the largest element among three Numbers ?\n",
    "\n",
    "# num1 = 10 \n",
    "# num2 = 50 \n",
    "# num3 = 15\n",
    "\n",
    "num1 = 10\n",
    "num2 = 50\n",
    "num3 = 15\n",
    "\n",
    "if (num1 >= num2) and (num1 >= num3):\n",
    "   largest = num1\n",
    "elif (num2 >= num1) and (num2 >= num3):\n",
    "   largest = num2\n",
    "else:\n",
    "   largest = num3\n",
    "\n",
    "print(\"The largest number is\", largest)"
   ]
  },
  {
   "cell_type": "code",
   "execution_count": null,
   "id": "33ab886c",
   "metadata": {},
   "outputs": [],
   "source": [
    "#07. Write a program to accept a number from 1 to 12 and display name of the month and days in that month like 1 for January and number of days 31 and so on\n",
    "#Ans- "
   ]
  },
  {
   "cell_type": "code",
   "execution_count": 10,
   "id": "d2e6ac31",
   "metadata": {},
   "outputs": [
    {
     "name": "stdout",
     "output_type": "stream",
     "text": [
      "Enter a month number2\n",
      "February\n",
      "No. of days: 28/29 days\n"
     ]
    }
   ],
   "source": [
    "i=int(input(\"Enter a month number\"))\n",
    "\n",
    "if i==1:\n",
    "\n",
    "  print(\"January\",)\n",
    "  print(\"No. of days: 31 day\")\n",
    "    \n",
    "\n",
    "elif i==2:\n",
    "\n",
    "  print(\"February\")\n",
    "  print(\"No. of days: 28/29 days\")\n",
    "\n",
    "elif i==3:\n",
    "\n",
    "  print(\"March\")\n",
    "  print(\"No. of days: 31 day\")\n",
    "\n",
    "elif i==4:\n",
    "\n",
    "  print(\"April\")\n",
    "  print(\"No. of days: 30 days\")\n",
    "\n",
    "elif i==5:\n",
    "\n",
    "  print(\"May\")\n",
    "  print(\"No. of days: 31 day\")\n",
    "\n",
    "elif i==6:\n",
    "\n",
    "  print(\"June\")\n",
    "  print(\"No. of days: 30 days\")\n",
    "\n",
    "elif i==7:\n",
    "\n",
    "  print(\"July\")\n",
    "  print(\"No. of days: 31 day\")\n",
    "\n",
    "elif i==8:\n",
    "\n",
    "  print(\"August\")\n",
    "  print(\"No. of days: 31 day\")\n",
    "\n",
    "elif i==9:\n",
    "\n",
    "  print(\"September\")\n",
    "  print(\"No. of days: 30 days\")\n",
    "\n",
    "elif i==10:\n",
    "\n",
    "  print(\"October\")\n",
    "  print(\"No. of days: 31 day\")\n",
    "\n",
    "elif i==11:\n",
    "\n",
    "  print(\"November\")\n",
    "\n",
    "elif i==12:\n",
    "\n",
    "  print(\"December\")\n",
    "  print(\"No. of days: 31 day\")\n",
    "\n",
    "else:\n",
    "\n",
    "  print(\"Wrong input\")\n",
    "\n"
   ]
  }
 ],
 "metadata": {
  "kernelspec": {
   "display_name": "Python 3 (ipykernel)",
   "language": "python",
   "name": "python3"
  },
  "language_info": {
   "codemirror_mode": {
    "name": "ipython",
    "version": 3
   },
   "file_extension": ".py",
   "mimetype": "text/x-python",
   "name": "python",
   "nbconvert_exporter": "python",
   "pygments_lexer": "ipython3",
   "version": "3.9.7"
  }
 },
 "nbformat": 4,
 "nbformat_minor": 5
}
