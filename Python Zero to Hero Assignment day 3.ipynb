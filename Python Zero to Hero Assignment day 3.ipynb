{
 "cells": [
  {
   "cell_type": "code",
   "execution_count": 1,
   "id": "38674a32",
   "metadata": {},
   "outputs": [],
   "source": [
    "# 1. Find the data type of a if a=9\n"
   ]
  },
  {
   "cell_type": "code",
   "execution_count": 4,
   "id": "62b0d4c8",
   "metadata": {},
   "outputs": [
    {
     "name": "stdout",
     "output_type": "stream",
     "text": [
      "<class 'int'>\n"
     ]
    }
   ],
   "source": [
    "a=9\n",
    "print(type(a))"
   ]
  },
  {
   "cell_type": "code",
   "execution_count": 5,
   "id": "58ea8f29",
   "metadata": {},
   "outputs": [],
   "source": [
    "#2. Find the data type of a if a=9\n"
   ]
  },
  {
   "cell_type": "code",
   "execution_count": 6,
   "id": "d4d8fc7b",
   "metadata": {},
   "outputs": [
    {
     "name": "stdout",
     "output_type": "stream",
     "text": [
      "<class 'int'>\n"
     ]
    }
   ],
   "source": [
    "a=9\n",
    "print(type(a))"
   ]
  },
  {
   "cell_type": "code",
   "execution_count": null,
   "id": "a3be71cc",
   "metadata": {},
   "outputs": [],
   "source": [
    "#3. Find the data type of a if a='9.'"
   ]
  },
  {
   "cell_type": "code",
   "execution_count": 7,
   "id": "de167e9d",
   "metadata": {},
   "outputs": [
    {
     "name": "stdout",
     "output_type": "stream",
     "text": [
      "<class 'str'>\n"
     ]
    }
   ],
   "source": [
    "a='9.'\n",
    "print(type(a))"
   ]
  },
  {
   "cell_type": "code",
   "execution_count": null,
   "id": "b7d73cb8",
   "metadata": {},
   "outputs": [],
   "source": [
    "#4. Find the data type of a if a=(9)"
   ]
  },
  {
   "cell_type": "code",
   "execution_count": 8,
   "id": "8826c17b",
   "metadata": {},
   "outputs": [
    {
     "name": "stdout",
     "output_type": "stream",
     "text": [
      "<class 'int'>\n"
     ]
    }
   ],
   "source": [
    "a=(9)\n",
    "print(type(a))"
   ]
  },
  {
   "cell_type": "code",
   "execution_count": null,
   "id": "a872a0ce",
   "metadata": {},
   "outputs": [],
   "source": [
    "#5. Find the data type of a if a=False"
   ]
  },
  {
   "cell_type": "code",
   "execution_count": 9,
   "id": "5ede35ed",
   "metadata": {},
   "outputs": [
    {
     "name": "stdout",
     "output_type": "stream",
     "text": [
      "<class 'bool'>\n"
     ]
    }
   ],
   "source": [
    "a=False\n",
    "print(type(a))"
   ]
  },
  {
   "cell_type": "code",
   "execution_count": null,
   "id": "c675be6b",
   "metadata": {},
   "outputs": [],
   "source": [
    "#6. Find the data type of a if a=[1,2,3]\n"
   ]
  },
  {
   "cell_type": "code",
   "execution_count": 10,
   "id": "cb48a440",
   "metadata": {},
   "outputs": [
    {
     "name": "stdout",
     "output_type": "stream",
     "text": [
      "<class 'list'>\n"
     ]
    }
   ],
   "source": [
    "a=[1,2,3]\n",
    "print(type(a))"
   ]
  },
  {
   "cell_type": "code",
   "execution_count": null,
   "id": "f2ab1cd7",
   "metadata": {},
   "outputs": [],
   "source": [
    "#7. Find the data type of a if a=(1,2,3)\n"
   ]
  },
  {
   "cell_type": "code",
   "execution_count": 11,
   "id": "c227501d",
   "metadata": {},
   "outputs": [
    {
     "name": "stdout",
     "output_type": "stream",
     "text": [
      "<class 'tuple'>\n"
     ]
    }
   ],
   "source": [
    "a=(1,2,3)\n",
    "print(type(a))"
   ]
  },
  {
   "cell_type": "code",
   "execution_count": null,
   "id": "c9cf4a8d",
   "metadata": {},
   "outputs": [],
   "source": [
    "#8. Find the data type of a if a={'key': 9}\n"
   ]
  },
  {
   "cell_type": "code",
   "execution_count": 12,
   "id": "53ebf192",
   "metadata": {},
   "outputs": [
    {
     "name": "stdout",
     "output_type": "stream",
     "text": [
      "<class 'dict'>\n"
     ]
    }
   ],
   "source": [
    "a={'key': 9}\n",
    "print(type(a))"
   ]
  },
  {
   "cell_type": "code",
   "execution_count": null,
   "id": "43a39afb",
   "metadata": {},
   "outputs": [],
   "source": [
    "#9. Find the data type of a if a=1 + 9j\n"
   ]
  },
  {
   "cell_type": "code",
   "execution_count": 13,
   "id": "b75eb32b",
   "metadata": {},
   "outputs": [
    {
     "name": "stdout",
     "output_type": "stream",
     "text": [
      "<class 'complex'>\n"
     ]
    }
   ],
   "source": [
    "a=1 + 9j\n",
    "print(type(a))"
   ]
  },
  {
   "cell_type": "code",
   "execution_count": null,
   "id": "f70e3301",
   "metadata": {},
   "outputs": [],
   "source": [
    "10. Set a=1 and b=2. What data type is a/b?\n"
   ]
  },
  {
   "cell_type": "code",
   "execution_count": 15,
   "id": "fcb81f14",
   "metadata": {},
   "outputs": [
    {
     "name": "stdout",
     "output_type": "stream",
     "text": [
      "<class 'float'>\n"
     ]
    }
   ],
   "source": [
    "a=1\n",
    "b=2\n",
    "c = a/b\n",
    "c\n",
    "print(type(c))"
   ]
  },
  {
   "cell_type": "code",
   "execution_count": null,
   "id": "c9387464",
   "metadata": {},
   "outputs": [],
   "source": [
    "#11. Create a dictionary numbers = {'one':1, 'two':2, 'three':3}. Pull out the number '2' by calling the key 'two'\n"
   ]
  },
  {
   "cell_type": "code",
   "execution_count": 17,
   "id": "7dcf2401",
   "metadata": {},
   "outputs": [
    {
     "data": {
      "text/plain": [
       "2"
      ]
     },
     "execution_count": 17,
     "metadata": {},
     "output_type": "execute_result"
    }
   ],
   "source": [
    "a={'one':1, 'two':2, 'three':3}\n",
    "a[\"two\"]"
   ]
  },
  {
   "cell_type": "code",
   "execution_count": null,
   "id": "c8e6fe4c",
   "metadata": {},
   "outputs": [],
   "source": [
    "#12. Create a tuple with the numbers 8, 9, and 10?"
   ]
  },
  {
   "cell_type": "code",
   "execution_count": 19,
   "id": "89947191",
   "metadata": {},
   "outputs": [
    {
     "name": "stdout",
     "output_type": "stream",
     "text": [
      "(8, 9, 10) <class 'tuple'>\n"
     ]
    }
   ],
   "source": [
    "a=(8,9,10)\n",
    "print(a,type(a))"
   ]
  },
  {
   "cell_type": "code",
   "execution_count": null,
   "id": "919ef956",
   "metadata": {},
   "outputs": [],
   "source": [
    "#13. Run the following lines of code and explain the error in your own words. Then rewrite the lines of code to run error free:\n",
    "#d = {one:1, two:2, three:3} d[one]"
   ]
  },
  {
   "cell_type": "code",
   "execution_count": 23,
   "id": "3bb28f47",
   "metadata": {},
   "outputs": [
    {
     "data": {
      "text/plain": [
       "1"
      ]
     },
     "execution_count": 23,
     "metadata": {},
     "output_type": "execute_result"
    }
   ],
   "source": [
    "# d = {one:1, two:2, three:3} d[one]\n",
    "#Error is NameError: name 'one' is not defined bcoz here its Dictionary and here not use any single cotes ('') and in print not use (\" \") in d[one] then use (' ')& (\" \") all code is error free\n",
    "#now error free code is\n",
    "d = {'one':1, 'two':2, 'three':3}\n",
    "d[\"one\"]"
   ]
  },
  {
   "cell_type": "code",
   "execution_count": 27,
   "id": "f0d51dcd",
   "metadata": {},
   "outputs": [],
   "source": [
    "#14 Run the following lines of code and explain the error in your own words. Then rewrite the lines of code to run error free:\n",
    "#f = false  not f\n",
    "#NameError: name 'false' is not defined bcoz it is not defined any value like int , tuple , string, etc data type or not use nay syntax here \n"
   ]
  },
  {
   "cell_type": "code",
   "execution_count": 28,
   "id": "12836eb7",
   "metadata": {},
   "outputs": [
    {
     "data": {
      "text/plain": [
       "False"
      ]
     },
     "execution_count": 28,
     "metadata": {},
     "output_type": "execute_result"
    }
   ],
   "source": [
    "# error free code is using string ddata type\n",
    "f = 'false' \n",
    "not f"
   ]
  },
  {
   "cell_type": "code",
   "execution_count": 29,
   "id": "a98ce301",
   "metadata": {},
   "outputs": [
    {
     "ename": "SyntaxError",
     "evalue": "invalid syntax (Temp/ipykernel_6844/3053079297.py, line 2)",
     "output_type": "error",
     "traceback": [
      "\u001b[1;36m  File \u001b[1;32m\"C:\\Users\\aksha\\AppData\\Local\\Temp/ipykernel_6844/3053079297.py\"\u001b[1;36m, line \u001b[1;32m2\u001b[0m\n\u001b[1;33m    lst = [1,3,5] lst[3]\u001b[0m\n\u001b[1;37m                  ^\u001b[0m\n\u001b[1;31mSyntaxError\u001b[0m\u001b[1;31m:\u001b[0m invalid syntax\n"
     ]
    }
   ],
   "source": [
    "#15. Run the following lines of code and explain the error in your own words. Then rewrite the lines of code to run error free:\n",
    "lst = [1,3,5] lst[3]\n",
    "#SyntaxError: invalid syntax bcoz it is array and array index is start from 0,1,2,...."
   ]
  },
  {
   "cell_type": "code",
   "execution_count": 31,
   "id": "9216c450",
   "metadata": {},
   "outputs": [
    {
     "data": {
      "text/plain": [
       "5"
      ]
     },
     "execution_count": 31,
     "metadata": {},
     "output_type": "execute_result"
    }
   ],
   "source": [
    "# error free code is using string current array index \n",
    "lst = [1,3,5] \n",
    "lst[2]"
   ]
  },
  {
   "cell_type": "code",
   "execution_count": null,
   "id": "059f4dde",
   "metadata": {},
   "outputs": [],
   "source": [
    " "
   ]
  }
 ],
 "metadata": {
  "kernelspec": {
   "display_name": "Python 3 (ipykernel)",
   "language": "python",
   "name": "python3"
  },
  "language_info": {
   "codemirror_mode": {
    "name": "ipython",
    "version": 3
   },
   "file_extension": ".py",
   "mimetype": "text/x-python",
   "name": "python",
   "nbconvert_exporter": "python",
   "pygments_lexer": "ipython3",
   "version": "3.9.7"
  }
 },
 "nbformat": 4,
 "nbformat_minor": 5
}
